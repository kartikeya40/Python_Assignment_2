{
 "cells": [
  {
   "cell_type": "markdown",
   "id": "c343c025",
   "metadata": {},
   "source": [
    "1. What are the two values of the Boolean data type? How do you write them?\n"
   ]
  },
  {
   "cell_type": "markdown",
   "id": "e5fe17fa",
   "metadata": {},
   "source": [
    "The two values are True and False, and are written as the same"
   ]
  },
  {
   "cell_type": "markdown",
   "id": "45250a63",
   "metadata": {},
   "source": [
    "2. What are the three different types of Boolean operators?"
   ]
  },
  {
   "cell_type": "markdown",
   "id": "7d57c1fe",
   "metadata": {},
   "source": [
    "The three operators are AND, OR and NOT"
   ]
  },
  {
   "cell_type": "markdown",
   "id": "9db61b63",
   "metadata": {},
   "source": [
    "3. Make a list of each Boolean operator's truth tables (i.e. every possible combination of Boolean values for the operator and what it evaluate )."
   ]
  },
  {
   "cell_type": "markdown",
   "id": "079f7b42",
   "metadata": {},
   "source": [
    "True OR True -> True,\n",
    "True OR False -> True,\n",
    "False OR True -> True,\n",
    "False OR False -> False,\n",
    "True AND True -> True,\n",
    "True AND False -> False,\n",
    "False AND True -> False,\n",
    "False AND False -> False,\n",
    "NOT True -> False,\n",
    "NOT False -> True\n"
   ]
  },
  {
   "cell_type": "markdown",
   "id": "f8752d66",
   "metadata": {},
   "source": [
    "4. What are the values of the following expressions?"
   ]
  },
  {
   "cell_type": "markdown",
   "id": "d7d0d0f8",
   "metadata": {},
   "source": [
    "(5 > 4) and (3 == 5) => False\n",
    "not (5 > 4) => False\n",
    "(5 > 4) or (3 == 5) => True\n",
    "not ((5 > 4) or (3 == 5)) => False\n",
    "(True and True) and (True == False) => False\n",
    "(not False) or (not True) => True\n"
   ]
  },
  {
   "cell_type": "markdown",
   "id": "8e9cf1f2",
   "metadata": {},
   "source": [
    "5. What are the six comparison operators?"
   ]
  },
  {
   "cell_type": "markdown",
   "id": "8d5dc382",
   "metadata": {},
   "source": [
    "= Answer -> The six comparison operators are:\n",
    "1.\t>\n",
    "2.\t<\n",
    "3.\t>=\n",
    "4.\t<=\n",
    "5.\t==\n",
    "6.\t!=\n"
   ]
  },
  {
   "cell_type": "markdown",
   "id": "ae5056fd",
   "metadata": {},
   "source": [
    "6. How do you tell the difference between the equal to and assignment operators? Describe a condition and when you would use one."
   ]
  },
  {
   "cell_type": "markdown",
   "id": "8bbf1329",
   "metadata": {},
   "source": [
    "= Answer -> The assignment operator is used to assign a value or the final value of an expression to a variable whereas the equal operator is used to compare equality between operands"
   ]
  },
  {
   "cell_type": "markdown",
   "id": "e15c8b84",
   "metadata": {},
   "source": [
    "7. Identify the three blocks in this code:\n",
    "spam = 0\n",
    "if spam == 10:\n",
    "    print('eggs')\n",
    "if spam > 5:\n",
    "    print('bacon')\n",
    "else:\n",
    "    print('ham')\n",
    "print('spam')\n",
    "print('spam')\n"
   ]
  },
  {
   "cell_type": "markdown",
   "id": "ad50f713",
   "metadata": {},
   "source": [
    "8. Write code that prints Hello if 1 is stored in spam, prints Howdy if 2 is stored in spam, and prints Greetings! if anything else is stored in spam."
   ]
  },
  {
   "cell_type": "markdown",
   "id": "8390eb6a",
   "metadata": {},
   "source": [
    "if spam==1:\n",
    "    print('Hello')\n",
    "elif spam==2:\n",
    "    print('Howdy')\n",
    "else:\n",
    "    print('Greetings!')"
   ]
  },
  {
   "cell_type": "markdown",
   "id": "90b28d4e",
   "metadata": {},
   "source": [
    "9. If your programme is stuck in an endless loop, what keys you’ll press?"
   ]
  },
  {
   "cell_type": "markdown",
   "id": "90a877f9",
   "metadata": {},
   "source": [
    "CTRL +C"
   ]
  },
  {
   "cell_type": "markdown",
   "id": "cadec657",
   "metadata": {},
   "source": [
    "10. How can you tell the difference between break and continue?"
   ]
  },
  {
   "cell_type": "markdown",
   "id": "4d5245fc",
   "metadata": {},
   "source": [
    "Once Break Statement is encountered in the loop, the control exits the loop whereas once continue statement is encountered in the loop, the current iteration is skipped and the loop runs from the next iteration"
   ]
  },
  {
   "cell_type": "markdown",
   "id": "613dd20e",
   "metadata": {},
   "source": [
    "11. In a for loop, what is the difference between range(10), range(0, 10), and range(0, 10, 1)?"
   ]
  },
  {
   "cell_type": "code",
   "execution_count": null,
   "id": "6e72e979",
   "metadata": {},
   "outputs": [],
   "source": [
    "All are the same"
   ]
  },
  {
   "cell_type": "markdown",
   "id": "fe97e6c6",
   "metadata": {},
   "source": [
    "12. Write a short program that prints the numbers 1 to 10 using a for loop. Then write an equivalent program that prints the numbers 1 to 10 using a while loop."
   ]
  },
  {
   "cell_type": "code",
   "execution_count": null,
   "id": "354fa38c",
   "metadata": {},
   "outputs": [],
   "source": [
    "#Using For Loop\n",
    "for i in range(1,11,1):\n",
    "    print(i)"
   ]
  },
  {
   "cell_type": "code",
   "execution_count": null,
   "id": "f1fdad64",
   "metadata": {},
   "outputs": [],
   "source": [
    "#Using While Loop\n",
    "i=1\n",
    "while i<11:\n",
    "    print(i)\n",
    "    i+=1"
   ]
  },
  {
   "cell_type": "markdown",
   "id": "667d68d8",
   "metadata": {},
   "source": [
    "13. If you had a function named bacon() inside a module named spam, how would you call it after importing spam?"
   ]
  },
  {
   "cell_type": "code",
   "execution_count": null,
   "id": "b1224d12",
   "metadata": {},
   "outputs": [],
   "source": [
    "We can use spam.bacon() to call this function"
   ]
  }
 ],
 "metadata": {
  "kernelspec": {
   "display_name": "Python 3 (ipykernel)",
   "language": "python",
   "name": "python3"
  },
  "language_info": {
   "codemirror_mode": {
    "name": "ipython",
    "version": 3
   },
   "file_extension": ".py",
   "mimetype": "text/x-python",
   "name": "python",
   "nbconvert_exporter": "python",
   "pygments_lexer": "ipython3",
   "version": "3.9.7"
  }
 },
 "nbformat": 4,
 "nbformat_minor": 5
}
